{
  "nbformat": 4,
  "nbformat_minor": 0,
  "metadata": {
    "colab": {
      "provenance": []
    },
    "kernelspec": {
      "name": "python3",
      "display_name": "Python 3"
    },
    "language_info": {
      "name": "python"
    }
  },
  "cells": [
    {
      "cell_type": "code",
      "execution_count": null,
      "metadata": {
        "id": "4WPrTOSmfKTi"
      },
      "outputs": [],
      "source": [
        "'''program 5\n",
        "Implement a deep learning model using stacked RBMs.\n",
        "Train layer-wise and fine-tune using backpropagation.\n",
        "Compare performance with traditional deep networks.'''\n",
        "\n",
        "\n",
        "#Train Layer-Wise Using RBMs\n",
        "import numpy as np\n",
        "from sklearn.neural_network import BernoulliRBM\n",
        "from sklearn.preprocessing import StandardScaler\n",
        "from sklearn.datasets import load_digits\n",
        "from sklearn.model_selection import train_test_split\n",
        "import tensorflow as tf\n",
        "from tensorflow.keras.layers import Dense\n",
        "from tensorflow.keras.models import Sequential\n",
        "\n",
        "# Load dataset (example: MNIST-like dataset - Digits dataset)\n",
        "digits = load_digits()\n",
        "X = digits.data\n",
        "y = digits.target\n",
        "\n",
        "# Preprocess data\n",
        "scaler = StandardScaler()\n",
        "X_scaled = scaler.fit_transform(X)\n",
        "\n",
        "# Split the dataset\n",
        "X_train, X_test, y_train, y_test = train_test_split(X_scaled, y, test_size=0.2, random_state=42)\n",
        "\n",
        "# Step 1: Train RBMs layer-wise (unsupervised pretraining)\n",
        "def train_rbm_layer(X_train, n_components=64):\n",
        "    rbm = BernoulliRBM(n_components=n_components, learning_rate=0.01, n_iter=10, random_state=42)\n",
        "    rbm.fit(X_train)\n",
        "    return rbm\n",
        "\n",
        "# Train first RBM layer\n",
        "rbm1 = train_rbm_layer(X_train, n_components=128)\n",
        "\n",
        "# Transform the input data using the trained RBM\n",
        "X_rbm1_train = rbm1.transform(X_train)\n",
        "X_rbm1_test = rbm1.transform(X_test)\n",
        "\n",
        "# Train second RBM layer\n",
        "rbm2 = train_rbm_layer(X_rbm1_train, n_components=64)\n",
        "X_rbm2_train = rbm2.transform(X_rbm1_train)\n",
        "X_rbm2_test = rbm2.transform(X_rbm1_test)\n"
      ]
    },
    {
      "cell_type": "code",
      "source": [
        "# Step 2: Fine-tune using Backpropagation\n",
        "# Now we'll use the output of the last RBM (X_rbm2_train) as the input to a DNN classifier.\n",
        "\n",
        "model = Sequential()\n",
        "model.add(Dense(128, input_dim=X_rbm2_train.shape[1], activation='relu'))  # Layer 1\n",
        "model.add(Dense(64, activation='relu'))  # Layer 2\n",
        "model.add(Dense(10, activation='softmax'))  # Output layer (10 classes for digits dataset)\n",
        "\n",
        "# Compile the model\n",
        "model.compile(optimizer='adam', loss='sparse_categorical_crossentropy', metrics=['accuracy'])\n",
        "\n",
        "# Train the model (fine-tuning with labeled data)\n",
        "model.fit(X_rbm2_train, y_train, epochs=10, batch_size=32, validation_data=(X_rbm2_test, y_test))\n",
        "\n",
        "# Evaluate the model\n",
        "loss, accuracy = model.evaluate(X_rbm2_test, y_test)\n",
        "print(f\"Test accuracy (with RBM pretraining + backprop): {accuracy * 100:.2f}%\")"
      ],
      "metadata": {
        "colab": {
          "base_uri": "https://localhost:8080/"
        },
        "id": "kMMzB1JYfVBi",
        "outputId": "561674be-e4ef-4628-a9c7-e501edd23d7e"
      },
      "execution_count": null,
      "outputs": [
        {
          "output_type": "stream",
          "name": "stderr",
          "text": [
            "/usr/local/lib/python3.11/dist-packages/keras/src/layers/core/dense.py:87: UserWarning: Do not pass an `input_shape`/`input_dim` argument to a layer. When using Sequential models, prefer using an `Input(shape)` object as the first layer in the model instead.\n",
            "  super().__init__(activity_regularizer=activity_regularizer, **kwargs)\n"
          ]
        },
        {
          "output_type": "stream",
          "name": "stdout",
          "text": [
            "Epoch 1/10\n",
            "\u001b[1m45/45\u001b[0m \u001b[32m━━━━━━━━━━━━━━━━━━━━\u001b[0m\u001b[37m\u001b[0m \u001b[1m4s\u001b[0m 19ms/step - accuracy: 0.2637 - loss: 2.0900 - val_accuracy: 0.5250 - val_loss: 1.4649\n",
            "Epoch 2/10\n",
            "\u001b[1m45/45\u001b[0m \u001b[32m━━━━━━━━━━━━━━━━━━━━\u001b[0m\u001b[37m\u001b[0m \u001b[1m0s\u001b[0m 8ms/step - accuracy: 0.5408 - loss: 1.3561 - val_accuracy: 0.5500 - val_loss: 1.2816\n",
            "Epoch 3/10\n",
            "\u001b[1m45/45\u001b[0m \u001b[32m━━━━━━━━━━━━━━━━━━━━\u001b[0m\u001b[37m\u001b[0m \u001b[1m1s\u001b[0m 8ms/step - accuracy: 0.5619 - loss: 1.2082 - val_accuracy: 0.5778 - val_loss: 1.1946\n",
            "Epoch 4/10\n",
            "\u001b[1m45/45\u001b[0m \u001b[32m━━━━━━━━━━━━━━━━━━━━\u001b[0m\u001b[37m\u001b[0m \u001b[1m1s\u001b[0m 12ms/step - accuracy: 0.5518 - loss: 1.1997 - val_accuracy: 0.5972 - val_loss: 1.1610\n",
            "Epoch 5/10\n",
            "\u001b[1m45/45\u001b[0m \u001b[32m━━━━━━━━━━━━━━━━━━━━\u001b[0m\u001b[37m\u001b[0m \u001b[1m1s\u001b[0m 7ms/step - accuracy: 0.6196 - loss: 1.0971 - val_accuracy: 0.5944 - val_loss: 1.1494\n",
            "Epoch 6/10\n",
            "\u001b[1m45/45\u001b[0m \u001b[32m━━━━━━━━━━━━━━━━━━━━\u001b[0m\u001b[37m\u001b[0m \u001b[1m1s\u001b[0m 11ms/step - accuracy: 0.5868 - loss: 1.1342 - val_accuracy: 0.6306 - val_loss: 1.1331\n",
            "Epoch 7/10\n",
            "\u001b[1m45/45\u001b[0m \u001b[32m━━━━━━━━━━━━━━━━━━━━\u001b[0m\u001b[37m\u001b[0m \u001b[1m1s\u001b[0m 13ms/step - accuracy: 0.6235 - loss: 1.0596 - val_accuracy: 0.6083 - val_loss: 1.1101\n",
            "Epoch 8/10\n",
            "\u001b[1m45/45\u001b[0m \u001b[32m━━━━━━━━━━━━━━━━━━━━\u001b[0m\u001b[37m\u001b[0m \u001b[1m0s\u001b[0m 10ms/step - accuracy: 0.6333 - loss: 1.0446 - val_accuracy: 0.6417 - val_loss: 1.1041\n",
            "Epoch 9/10\n",
            "\u001b[1m45/45\u001b[0m \u001b[32m━━━━━━━━━━━━━━━━━━━━\u001b[0m\u001b[37m\u001b[0m \u001b[1m0s\u001b[0m 6ms/step - accuracy: 0.6330 - loss: 1.0558 - val_accuracy: 0.6306 - val_loss: 1.0718\n",
            "Epoch 10/10\n",
            "\u001b[1m45/45\u001b[0m \u001b[32m━━━━━━━━━━━━━━━━━━━━\u001b[0m\u001b[37m\u001b[0m \u001b[1m1s\u001b[0m 4ms/step - accuracy: 0.6241 - loss: 1.0293 - val_accuracy: 0.6139 - val_loss: 1.0959\n",
            "\u001b[1m12/12\u001b[0m \u001b[32m━━━━━━━━━━━━━━━━━━━━\u001b[0m\u001b[37m\u001b[0m \u001b[1m0s\u001b[0m 4ms/step - accuracy: 0.6295 - loss: 1.0426 \n",
            "Test accuracy (with RBM pretraining + backprop): 61.39%\n"
          ]
        }
      ]
    },
    {
      "cell_type": "code",
      "source": [
        "\n",
        "\n",
        "# Step 3: Train a Traditional Deep Neural Network (DNN) for Comparison\n",
        "\n",
        "# Build a simple deep neural network (DNN)\n",
        "dnn_model = Sequential()\n",
        "dnn_model.add(Dense(128, input_dim=X_train.shape[1], activation='relu'))  # Layer 1\n",
        "dnn_model.add(Dense(64, activation='relu'))  # Layer 2\n",
        "dnn_model.add(Dense(10, activation='softmax'))  # Output layer\n",
        "\n",
        "# Compile the model\n",
        "dnn_model.compile(optimizer='adam', loss='sparse_categorical_crossentropy', metrics=['accuracy'])\n",
        "\n",
        "# Train the model\n",
        "dnn_model.fit(X_train, y_train, epochs=10, batch_size=32, validation_data=(X_test, y_test))\n",
        "\n",
        "# Evaluate the DNN model\n",
        "dnn_loss, dnn_accuracy = dnn_model.evaluate(X_test, y_test)\n",
        "print(f\"Test accuracy (Traditional DNN): {dnn_accuracy * 100:.2f}%\")"
      ],
      "metadata": {
        "colab": {
          "base_uri": "https://localhost:8080/"
        },
        "id": "dvNEhEB_fXgC",
        "outputId": "e73a596a-a0da-47f6-c29e-fadbd7e3d9b4"
      },
      "execution_count": null,
      "outputs": [
        {
          "output_type": "stream",
          "name": "stdout",
          "text": [
            "Epoch 1/10\n",
            "\u001b[1m45/45\u001b[0m \u001b[32m━━━━━━━━━━━━━━━━━━━━\u001b[0m\u001b[37m\u001b[0m \u001b[1m3s\u001b[0m 8ms/step - accuracy: 0.4161 - loss: 1.9252 - val_accuracy: 0.8583 - val_loss: 0.6772\n",
            "Epoch 2/10\n",
            "\u001b[1m45/45\u001b[0m \u001b[32m━━━━━━━━━━━━━━━━━━━━\u001b[0m\u001b[37m\u001b[0m \u001b[1m0s\u001b[0m 4ms/step - accuracy: 0.9006 - loss: 0.5276 - val_accuracy: 0.9333 - val_loss: 0.2735\n",
            "Epoch 3/10\n",
            "\u001b[1m45/45\u001b[0m \u001b[32m━━━━━━━━━━━━━━━━━━━━\u001b[0m\u001b[37m\u001b[0m \u001b[1m0s\u001b[0m 4ms/step - accuracy: 0.9659 - loss: 0.1947 - val_accuracy: 0.9583 - val_loss: 0.1747\n",
            "Epoch 4/10\n",
            "\u001b[1m45/45\u001b[0m \u001b[32m━━━━━━━━━━━━━━━━━━━━\u001b[0m\u001b[37m\u001b[0m \u001b[1m0s\u001b[0m 6ms/step - accuracy: 0.9774 - loss: 0.1173 - val_accuracy: 0.9694 - val_loss: 0.1378\n",
            "Epoch 5/10\n",
            "\u001b[1m45/45\u001b[0m \u001b[32m━━━━━━━━━━━━━━━━━━━━\u001b[0m\u001b[37m\u001b[0m \u001b[1m1s\u001b[0m 14ms/step - accuracy: 0.9902 - loss: 0.0758 - val_accuracy: 0.9694 - val_loss: 0.1208\n",
            "Epoch 6/10\n",
            "\u001b[1m45/45\u001b[0m \u001b[32m━━━━━━━━━━━━━━━━━━━━\u001b[0m\u001b[37m\u001b[0m \u001b[1m2s\u001b[0m 20ms/step - accuracy: 0.9942 - loss: 0.0526 - val_accuracy: 0.9750 - val_loss: 0.1119\n",
            "Epoch 7/10\n",
            "\u001b[1m45/45\u001b[0m \u001b[32m━━━━━━━━━━━━━━━━━━━━\u001b[0m\u001b[37m\u001b[0m \u001b[1m1s\u001b[0m 11ms/step - accuracy: 0.9954 - loss: 0.0455 - val_accuracy: 0.9722 - val_loss: 0.1043\n",
            "Epoch 8/10\n",
            "\u001b[1m45/45\u001b[0m \u001b[32m━━━━━━━━━━━━━━━━━━━━\u001b[0m\u001b[37m\u001b[0m \u001b[1m1s\u001b[0m 6ms/step - accuracy: 0.9972 - loss: 0.0305 - val_accuracy: 0.9722 - val_loss: 0.1045\n",
            "Epoch 9/10\n",
            "\u001b[1m45/45\u001b[0m \u001b[32m━━━━━━━━━━━━━━━━━━━━\u001b[0m\u001b[37m\u001b[0m \u001b[1m0s\u001b[0m 5ms/step - accuracy: 0.9940 - loss: 0.0273 - val_accuracy: 0.9778 - val_loss: 0.1011\n",
            "Epoch 10/10\n",
            "\u001b[1m45/45\u001b[0m \u001b[32m━━━━━━━━━━━━━━━━━━━━\u001b[0m\u001b[37m\u001b[0m \u001b[1m0s\u001b[0m 6ms/step - accuracy: 0.9993 - loss: 0.0192 - val_accuracy: 0.9778 - val_loss: 0.0956\n",
            "\u001b[1m12/12\u001b[0m \u001b[32m━━━━━━━━━━━━━━━━━━━━\u001b[0m\u001b[37m\u001b[0m \u001b[1m0s\u001b[0m 4ms/step - accuracy: 0.9766 - loss: 0.0767 \n",
            "Test accuracy (Traditional DNN): 97.78%\n"
          ]
        }
      ]
    },
    {
      "cell_type": "code",
      "source": [],
      "metadata": {
        "id": "On_7MSYgfydj"
      },
      "execution_count": null,
      "outputs": []
    }
  ]
}