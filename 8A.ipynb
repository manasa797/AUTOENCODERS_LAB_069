{
  "nbformat": 4,
  "nbformat_minor": 0,
  "metadata": {
    "colab": {
      "provenance": []
    },
    "kernelspec": {
      "name": "python3",
      "display_name": "Python 3"
    },
    "language_info": {
      "name": "python"
    }
  },
  "cells": [
    {
      "cell_type": "code",
      "execution_count": null,
      "metadata": {
        "id": "_Z0uZO1Vlvj9"
      },
      "outputs": [],
      "source": [
        "#importing library\n",
        "import numpy as np\n",
        "import matplotlib.pyplot as plt\n",
        "from keras import Sequential\n",
        "from keras.layers import Dense, Conv2D, MaxPooling2D, UpSampling2D\n",
        "from keras.datasets import mnist\n",
        "\n",
        "#Loading the dataset\n",
        "(x_train, _), (x_test, _) = mnist.load_data()\n",
        "x_train = x_train.astype('float32') / 255\n",
        "x_test = x_test.astype('float32') / 255\n",
        "\n",
        "# reshape in the input data for the model\n",
        "x_train = x_train.reshape(len(x_train), 28, 28, 1)\n",
        "x_test = x_test.reshape(len(x_test), 28, 28, 1)\n",
        "x_test.shape\n",
        "\n",
        "#model implementation\n",
        "model = Sequential([\n",
        "    # encoder network\n",
        "    Conv2D(32, 3, activation='relu', padding='same', input_shape=(28, 28, 1)),\n",
        "    MaxPooling2D(2, padding='same'),\n",
        "    Conv2D(16, 3, activation='relu', padding='same'),\n",
        "    MaxPooling2D(2, padding='same'),\n",
        "    # decoder network\n",
        "    Conv2D(16, 3, activation='relu', padding='same'),\n",
        "    UpSampling2D(2),\n",
        "    Conv2D(32, 3, activation='relu', padding='same'),\n",
        "    UpSampling2D(2),\n",
        "    # output layer\n",
        "    Conv2D(1, 3, activation='sigmoid', padding='same')\n",
        "])\n",
        "\n",
        "model.compile(optimizer='adam', loss='binary_crossentropy')\n",
        "model.fit(x_train, x_train, epochs=20, batch_size=256, validation_data=(x_test, x_test))\n",
        "\n",
        "#storing the predected output here and visualizing the result\n",
        "pred = model.predict(x_test)\n",
        "\n",
        "#Visual Representation\n",
        "index = np.random.randint(len(x_test))\n",
        "plt.figure(figsize=(10, 4))\n",
        "\n",
        "# display original image\n",
        "ax = plt.subplot(1, 2, 1)\n",
        "plt.title(\"Original Image\")\n",
        "plt.imshow(x_test[index].reshape(28,28))\n",
        "plt.gray()\n",
        "\n",
        "# display compressed image\n",
        "ax = plt.subplot(1, 2, 2)\n",
        "plt.title(\"compressed Image\")\n",
        "plt.imshow(pred[index].reshape(28,28))\n",
        "plt.gray()\n",
        "plt.show()\n",
        "\n",
        "from sklearn.metrics import mean_squared_error\n",
        "\n",
        "# Get original and predicted images\n",
        "original = x_test[index].reshape(28, 28)\n",
        "reconstructed = pred[index].reshape(28, 28)\n",
        "\n",
        "# Compute Mean Squared Error\n",
        "mse = mean_squared_error(original, reconstructed)\n",
        "print(f\"Mean Squared Error (MSE) between original and reconstructed image: {mse}\")"
      ]
    }
  ]
}