{
  "nbformat": 4,
  "nbformat_minor": 0,
  "metadata": {
    "colab": {
      "provenance": []
    },
    "kernelspec": {
      "name": "python3",
      "display_name": "Python 3"
    },
    "language_info": {
      "name": "python"
    }
  },
  "cells": [
    {
      "cell_type": "code",
      "execution_count": null,
      "metadata": {
        "id": "TS8JmXg3oKcm"
      },
      "outputs": [],
      "source": [
        "import torch, torch.nn as nn, torch.optim as optim\n",
        "from torchvision import datasets, transforms\n",
        "from torch.utils.data import DataLoader\n",
        "import matplotlib.pyplot as plt\n",
        "\n",
        "# Data\n",
        "data = DataLoader(datasets.MNIST('.', train=True, download=True,\n",
        "                                 transform=transforms.Compose([transforms.ToTensor(), transforms.Normalize((0.5,), (0.5,))])),\n",
        "                  batch_size=64, shuffle=True)\n",
        "\n",
        "# Generator & Discriminator\n",
        "G = nn.Sequential(nn.Linear(100, 256), nn.ReLU(), nn.Linear(256, 784), nn.Tanh())\n",
        "D = nn.Sequential(nn.Linear(784, 256), nn.LeakyReLU(0.2), nn.Linear(256, 1), nn.Sigmoid())\n",
        "opt_G = optim.Adam(G.parameters(), lr=0.0002)\n",
        "opt_D = optim.Adam(D.parameters(), lr=0.0002)\n",
        "loss = nn.BCELoss()\n",
        "\n",
        "# Train\n",
        "for epoch in range(5): # few epochs for quick training\n",
        "  for real, _ in data:\n",
        "    real = real.view(-1, 784)\n",
        "    z = torch.randn(real.size(0), 100)\n",
        "    fake = G(z)\n",
        "    # Discriminator\n",
        "    D_real = D(real)\n",
        "    D_fake = D(fake.detach())\n",
        "    loss_D = loss(D_real, torch.ones_like(D_real)) + loss(D_fake, torch.zeros_like(D_fake))\n",
        "    opt_D.zero_grad(); loss_D.backward(); opt_D.step()\n",
        "\n",
        "    # Generator\n",
        "    D_fake = D(fake)\n",
        "    loss_G = loss(D_fake, torch.ones_like(D_fake))\n",
        "    opt_G.zero_grad(); loss_G.backward(); opt_G.step()\n",
        "  print(f\"Epoch {epoch+1}: D_loss={loss_D.item():.3f}, G_loss={loss_G.item():.3f}\")\n",
        "\n",
        "# Generate sample\n",
        "z = torch.randn(1, 100)\n",
        "img = G(z).view(28, 28).detach()\n",
        "plt.imshow(img, cmap='gray'); plt.axis('off'); plt.show()"
      ]
    }
  ]
}