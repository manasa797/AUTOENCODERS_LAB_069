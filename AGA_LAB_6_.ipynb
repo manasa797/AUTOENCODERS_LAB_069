{
  "nbformat": 4,
  "nbformat_minor": 0,
  "metadata": {
    "colab": {
      "provenance": []
    },
    "kernelspec": {
      "name": "python3",
      "display_name": "Python 3"
    },
    "language_info": {
      "name": "python"
    }
  },
  "cells": [
    {
      "cell_type": "code",
      "execution_count": null,
      "metadata": {
        "colab": {
          "base_uri": "https://localhost:8080/"
        },
        "id": "93vdKicXhK6l",
        "outputId": "bdebd38c-6113-402d-bd56-274fc85cb5c4"
      },
      "outputs": [
        {
          "output_type": "stream",
          "name": "stdout",
          "text": [
            "[BernoulliRBM] Iteration 1, pseudo-likelihood = -109.32, time = 0.18s\n",
            "[BernoulliRBM] Iteration 2, pseudo-likelihood = -124.54, time = 0.50s\n",
            "[BernoulliRBM] Iteration 3, pseudo-likelihood = -135.10, time = 0.52s\n",
            "[BernoulliRBM] Iteration 4, pseudo-likelihood = -174.39, time = 0.49s\n",
            "[BernoulliRBM] Iteration 5, pseudo-likelihood = -219.01, time = 0.43s\n",
            "[BernoulliRBM] Iteration 6, pseudo-likelihood = -262.25, time = 0.32s\n",
            "[BernoulliRBM] Iteration 7, pseudo-likelihood = -310.08, time = 0.58s\n",
            "[BernoulliRBM] Iteration 8, pseudo-likelihood = -359.88, time = 0.44s\n",
            "[BernoulliRBM] Iteration 9, pseudo-likelihood = -412.63, time = 0.40s\n",
            "[BernoulliRBM] Iteration 10, pseudo-likelihood = -463.32, time = 0.56s\n",
            "[BernoulliRBM] Iteration 11, pseudo-likelihood = -525.85, time = 0.78s\n",
            "[BernoulliRBM] Iteration 12, pseudo-likelihood = -579.42, time = 0.79s\n",
            "[BernoulliRBM] Iteration 13, pseudo-likelihood = -632.30, time = 0.69s\n",
            "[BernoulliRBM] Iteration 14, pseudo-likelihood = -681.14, time = 0.47s\n",
            "[BernoulliRBM] Iteration 15, pseudo-likelihood = -739.87, time = 0.83s\n",
            "[BernoulliRBM] Iteration 16, pseudo-likelihood = -795.09, time = 0.65s\n",
            "[BernoulliRBM] Iteration 17, pseudo-likelihood = -855.58, time = 0.46s\n",
            "[BernoulliRBM] Iteration 18, pseudo-likelihood = -915.55, time = 0.83s\n",
            "[BernoulliRBM] Iteration 19, pseudo-likelihood = -961.38, time = 0.81s\n",
            "[BernoulliRBM] Iteration 20, pseudo-likelihood = -1015.63, time = 0.52s\n",
            "[BernoulliRBM] Iteration 1, pseudo-likelihood = -56.66, time = 0.59s\n",
            "[BernoulliRBM] Iteration 2, pseudo-likelihood = -51.45, time = 0.49s\n",
            "[BernoulliRBM] Iteration 3, pseudo-likelihood = -44.65, time = 0.58s\n",
            "[BernoulliRBM] Iteration 4, pseudo-likelihood = -39.34, time = 0.42s\n",
            "[BernoulliRBM] Iteration 5, pseudo-likelihood = -36.58, time = 0.28s\n",
            "[BernoulliRBM] Iteration 6, pseudo-likelihood = -36.03, time = 0.25s\n",
            "[BernoulliRBM] Iteration 7, pseudo-likelihood = -33.67, time = 0.27s\n",
            "[BernoulliRBM] Iteration 8, pseudo-likelihood = -32.97, time = 0.43s\n",
            "[BernoulliRBM] Iteration 9, pseudo-likelihood = -33.77, time = 0.33s\n",
            "[BernoulliRBM] Iteration 10, pseudo-likelihood = -32.30, time = 0.50s\n",
            "[BernoulliRBM] Iteration 11, pseudo-likelihood = -31.38, time = 0.31s\n",
            "[BernoulliRBM] Iteration 12, pseudo-likelihood = -30.74, time = 0.46s\n",
            "[BernoulliRBM] Iteration 13, pseudo-likelihood = -31.38, time = 0.31s\n",
            "[BernoulliRBM] Iteration 14, pseudo-likelihood = -28.95, time = 0.32s\n",
            "[BernoulliRBM] Iteration 15, pseudo-likelihood = -28.08, time = 0.41s\n",
            "[BernoulliRBM] Iteration 16, pseudo-likelihood = -27.54, time = 0.34s\n",
            "[BernoulliRBM] Iteration 17, pseudo-likelihood = -26.98, time = 0.42s\n",
            "[BernoulliRBM] Iteration 18, pseudo-likelihood = -26.66, time = 0.37s\n",
            "[BernoulliRBM] Iteration 19, pseudo-likelihood = -26.78, time = 0.31s\n",
            "[BernoulliRBM] Iteration 20, pseudo-likelihood = -25.48, time = 0.22s\n"
          ]
        },
        {
          "output_type": "stream",
          "name": "stderr",
          "text": [
            "/usr/local/lib/python3.11/dist-packages/sklearn/linear_model/_logistic.py:1247: FutureWarning: 'multi_class' was deprecated in version 1.5 and will be removed in 1.7. From then on, it will always use 'multinomial'. Leave it to its default value to avoid this warning.\n",
            "  warnings.warn(\n"
          ]
        },
        {
          "output_type": "stream",
          "name": "stdout",
          "text": [
            "Stacked DBN (RBMs + LR) accuracy on Digits dataset: 0.7083\n"
          ]
        }
      ],
      "source": [
        "#program 6\n",
        "#Train a Deep Belief Network (DBN) using RBMs.\n",
        "#Fine-tune with supervised learning.\n",
        "#Evaluate performance on a benchmark dataset.\n",
        "\n",
        "import numpy as np\n",
        "from sklearn.datasets import load_digits\n",
        "from sklearn.model_selection import train_test_split\n",
        "from sklearn.preprocessing import StandardScaler\n",
        "from sklearn.neural_network import BernoulliRBM\n",
        "from sklearn.linear_model import LogisticRegression\n",
        "from sklearn.metrics import accuracy_score\n",
        "\n",
        "# Load the Digits dataset (8x8 images of handwritten digits)\n",
        "digits = load_digits()\n",
        "X, y = digits.data, digits.target\n",
        "\n",
        "# Train-test split\n",
        "X_train, X_test, y_train, y_test = train_test_split(\n",
        "    X, y, test_size=0.2, random_state=42, stratify=y)\n",
        "\n",
        "# Standardize features\n",
        "scaler = StandardScaler()\n",
        "X_train_scaled = scaler.fit_transform(X_train)\n",
        "X_test_scaled = scaler.transform(X_test)\n",
        "\n",
        "# --- Layer-wise RBM Pretraining ---\n",
        "rbm1 = BernoulliRBM(n_components=128, learning_rate=0.01, n_iter=20, verbose=1, random_state=42)\n",
        "X_train_rbm1 = rbm1.fit_transform(X_train_scaled)\n",
        "\n",
        "rbm2 = BernoulliRBM(n_components=64, learning_rate=0.01, n_iter=20, verbose=1, random_state=42)\n",
        "X_train_rbm2 = rbm2.fit_transform(X_train_rbm1)\n",
        "\n",
        "# --- Supervised Fine-Tuning with Logistic Regression ---\n",
        "clf = LogisticRegression(max_iter=1000, solver='lbfgs', multi_class='multinomial', random_state=42)\n",
        "clf.fit(X_train_rbm2, y_train)\n",
        "\n",
        "# Transform test data through RBMs\n",
        "X_test_rbm1 = rbm1.transform(X_test_scaled)\n",
        "X_test_rbm2 = rbm2.transform(X_test_rbm1)\n",
        "\n",
        "# Evaluate\n",
        "y_pred = clf.predict(X_test_rbm2)\n",
        "accuracy = accuracy_score(y_test, y_pred)\n",
        "print(f\"Stacked DBN (RBMs + LR) accuracy on Digits dataset: {accuracy:.4f}\")\n",
        "\n"
      ]
    },
    {
      "cell_type": "code",
      "source": [],
      "metadata": {
        "id": "7zPXxXJ2hbk7"
      },
      "execution_count": null,
      "outputs": []
    }
  ]
}